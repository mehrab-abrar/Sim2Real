{
 "cells": [
  {
   "cell_type": "code",
   "execution_count": 1,
   "metadata": {},
   "outputs": [
    {
     "name": "stdout",
     "output_type": "stream",
     "text": [
      "^C\n"
     ]
    },
    {
     "name": "stderr",
     "output_type": "stream",
     "text": [
      "ERROR: Invalid requirement: '#'\n"
     ]
    }
   ],
   "source": [
    "# You only need to run this cell once (per time you launch the notebook, in colab or jupyterlab)\n",
    "# Once you have installed gymnasium, you can comment out the next line\n",
    "!pip install gymnasium\n",
    "!pip install \"gymnasium[classic-control]\" # use quotes on mac\n",
    "# !pip install \"gymnasium[box2d]\" # has known installation problems"
   ]
  },
  {
   "cell_type": "code",
   "execution_count": 1,
   "metadata": {},
   "outputs": [],
   "source": [
    "import gymnasium as gym\n",
    "import random\n",
    "import time\n",
    "import numpy as np"
   ]
  },
  {
   "cell_type": "code",
   "execution_count": 2,
   "metadata": {},
   "outputs": [
    {
     "name": "stdout",
     "output_type": "stream",
     "text": [
      "[[0. 0. 0. 0.]\n",
      " [0. 0. 0. 0.]\n",
      " [0. 0. 0. 0.]\n",
      " [0. 0. 0. 0.]\n",
      " [0. 0. 0. 0.]\n",
      " [0. 0. 0. 0.]\n",
      " [0. 0. 0. 0.]\n",
      " [0. 0. 0. 0.]\n",
      " [0. 0. 0. 0.]\n",
      " [0. 0. 0. 0.]\n",
      " [0. 0. 0. 0.]\n",
      " [0. 0. 0. 0.]\n",
      " [0. 0. 0. 0.]\n",
      " [0. 0. 0. 0.]\n",
      " [0. 0. 0. 0.]\n",
      " [0. 0. 0. 0.]]\n"
     ]
    }
   ],
   "source": [
    "env = gym.make('FrozenLake-v1', desc=None, map_name=\"4x4\", is_slippery=False)  ##, render_mode = 'human'\n",
    "action_space_size= env.action_space.n\n",
    "obs_space_size= env.observation_space.n\n",
    "\n",
    "q_table= np.zeros((obs_space_size, action_space_size))\n",
    "print (q_table)"
   ]
  },
  {
   "cell_type": "code",
   "execution_count": 3,
   "metadata": {},
   "outputs": [],
   "source": [
    "num_episodes= 100\n",
    "t= 1000 ##Steps per episode\n",
    "lr= 0.1\n",
    "dr= 0.99\n",
    "exp_r= 1\n",
    "max_exp_r= 1\n",
    "min_exp_r=0.01\n",
    "exploration_decay_rate= 0.01\n"
   ]
  },
  {
   "cell_type": "code",
   "execution_count": 4,
   "metadata": {},
   "outputs": [
    {
     "name": "stdout",
     "output_type": "stream",
     "text": [
      "Average rewards: 38.97\n",
      "Updated Q table: [[0.94148015 0.95099005 0.95099005 0.94148015]\n",
      " [0.94148015 0.         0.96059601 0.95099005]\n",
      " [0.95099005 0.970299   0.95099005 0.96059601]\n",
      " [0.96059601 0.         0.95099005 0.95099005]\n",
      " [0.95099005 0.96059601 0.         0.94148015]\n",
      " [0.         0.         0.         0.        ]\n",
      " [0.         0.9801     0.         0.96059601]\n",
      " [0.         0.         0.         0.        ]\n",
      " [0.96059601 0.         0.970299   0.95099005]\n",
      " [0.96059601 0.9801     0.9801     0.        ]\n",
      " [0.970299   0.99       0.         0.970299  ]\n",
      " [0.         0.         0.         0.        ]\n",
      " [0.         0.         0.         0.        ]\n",
      " [0.         0.9801     0.99       0.970299  ]\n",
      " [0.9801     0.99       1.         0.9801    ]\n",
      " [0.         0.         0.         0.        ]]\n"
     ]
    }
   ],
   "source": [
    "##training\n",
    "total_rewards=[]\n",
    "episode= 1\n",
    "while episode<= num_episodes:\n",
    "    total= 0\n",
    "    observation, info = env.reset()\n",
    "    reward_arr=[]\n",
    "    for steps in range(t):\n",
    "        exp_r_threshold = random.uniform (0,1)\n",
    "        if exp_r_threshold > exp_r:\n",
    "            action=np.argmax(q_table[observation, :])\n",
    "        else:\n",
    "            action = env.action_space.sample()\n",
    "        new_observation, reward, terminated, truncated, info= env.step(action)\n",
    "        ##print (\"New Observation:\", new_observation)\n",
    "        ##print (\"Action:\", action)\n",
    "        ##Update q_table\n",
    "        q_table[observation, action]= (q_table[observation, action]*(1-lr)) + (lr* (reward+ (dr * np.max(q_table[new_observation, :]))))\n",
    "        observation= new_observation\n",
    "        total = total+reward\n",
    "        reward_arr.append(reward)\n",
    "        if terminated or truncated:\n",
    "           observation, info= env.reset()\n",
    "    mean_reward= np.mean(reward_arr)\n",
    "    ##print (f\"Average reward for {episode} episode is: \", mean_reward)\n",
    "    ##print (\"Cumulative Reward:\", total)\n",
    "    ##print (\"Episode:\", episode)\n",
    "    exp_r= min_exp_r + (max_exp_r- min_exp_r)* np.exp(-exploration_decay_rate*episode)\n",
    "    episode=episode+1\n",
    "    total_rewards.append(total)\n",
    "\n",
    "print (\"Average rewards:\", np.mean(total_rewards))\n",
    "print (\"Updated Q table:\", q_table)\n",
    "# Close the environment\n",
    "env.close()"
   ]
  },
  {
   "cell_type": "code",
   "execution_count": 5,
   "metadata": {},
   "outputs": [
    {
     "name": "stdout",
     "output_type": "stream",
     "text": [
      "You have reached the goal!\n",
      "You have reached the goal!\n",
      "You have reached the goal!\n",
      "You have reached the goal!\n",
      "You have reached the goal!\n"
     ]
    }
   ],
   "source": [
    "##Testing\n",
    "env = gym.make('FrozenLake-v1', desc=None, map_name=\"4x4\", is_slippery=False, render_mode = 'human')  ##\n",
    "episode=0\n",
    "while episode<= 4:\n",
    "    observation, info = env.reset()\n",
    "    for steps in range(100):\n",
    "        action=np.argmax(q_table[observation, :])   ##Decides whether at that position, it should go up, down left or right depending on q score\n",
    "        new_observation, reward, terminated, truncated, info= env.step(action)\n",
    "        observation= new_observation\n",
    "        if terminated or truncated:\n",
    "            if reward==1:\n",
    "                print (\"You have reached the goal!\")\n",
    "            else:\n",
    "                ##observation, info= env.reset()\n",
    "                print (\"Oops! You are in the hole!\")\n",
    "            break\n",
    "                \n",
    "    episode= episode+1\n",
    "\n",
    "env.close()"
   ]
  },
  {
   "cell_type": "code",
   "execution_count": 6,
   "metadata": {},
   "outputs": [
    {
     "data": {
      "text/plain": [
       "array([[0.94148015, 0.95099005, 0.95099005, 0.94148015],\n",
       "       [0.94148015, 0.        , 0.96059601, 0.95099005],\n",
       "       [0.95099005, 0.970299  , 0.95099005, 0.96059601],\n",
       "       [0.96059601, 0.        , 0.95099005, 0.95099005],\n",
       "       [0.95099005, 0.96059601, 0.        , 0.94148015],\n",
       "       [0.        , 0.        , 0.        , 0.        ],\n",
       "       [0.        , 0.9801    , 0.        , 0.96059601],\n",
       "       [0.        , 0.        , 0.        , 0.        ],\n",
       "       [0.96059601, 0.        , 0.970299  , 0.95099005],\n",
       "       [0.96059601, 0.9801    , 0.9801    , 0.        ],\n",
       "       [0.970299  , 0.99      , 0.        , 0.970299  ],\n",
       "       [0.        , 0.        , 0.        , 0.        ],\n",
       "       [0.        , 0.        , 0.        , 0.        ],\n",
       "       [0.        , 0.9801    , 0.99      , 0.970299  ],\n",
       "       [0.9801    , 0.99      , 1.        , 0.9801    ],\n",
       "       [0.        , 0.        , 0.        , 0.        ]])"
      ]
     },
     "execution_count": 6,
     "metadata": {},
     "output_type": "execute_result"
    }
   ],
   "source": [
    "q_table"
   ]
  },
  {
   "cell_type": "code",
   "execution_count": 7,
   "metadata": {},
   "outputs": [
    {
     "name": "stdout",
     "output_type": "stream",
     "text": [
      "Row 0: 1\n",
      "Row 1: 2\n",
      "Row 2: 1\n",
      "Row 3: 0\n",
      "Row 4: 1\n",
      "Row 5: 4\n",
      "Row 6: 1\n",
      "Row 7: 4\n",
      "Row 8: 2\n",
      "Row 9: 1\n",
      "Row 10: 1\n",
      "Row 11: 4\n",
      "Row 12: 4\n",
      "Row 13: 2\n",
      "Row 14: 2\n",
      "Row 15: 4\n",
      "[[0. 1. 0. 0.]\n",
      " [0. 0. 1. 0.]\n",
      " [0. 1. 0. 0.]\n",
      " [1. 0. 0. 0.]\n",
      " [0. 1. 0. 0.]\n",
      " [0. 0. 0. 0.]\n",
      " [0. 1. 0. 0.]\n",
      " [0. 0. 0. 0.]\n",
      " [0. 0. 1. 0.]\n",
      " [0. 1. 0. 0.]\n",
      " [0. 1. 0. 0.]\n",
      " [0. 0. 0. 0.]\n",
      " [0. 0. 0. 0.]\n",
      " [0. 0. 1. 0.]\n",
      " [0. 0. 1. 0.]\n",
      " [0. 0. 0. 0.]]\n"
     ]
    }
   ],
   "source": [
    "updated_q=np.zeros((16, 4))\n",
    "for r in range (len(q_table)):\n",
    "    if q_table[r].any()>0:\n",
    "        c= np.argmax(q_table[r])\n",
    "        updated_q[r][c]= 1\n",
    "    else:\n",
    "        c= 4\n",
    "    print (f\"Row {r}:\", c)\n",
    "print (updated_q)\n",
    "        "
   ]
  },
  {
   "cell_type": "code",
   "execution_count": 9,
   "metadata": {},
   "outputs": [
    {
     "data": {
      "text/plain": [
       "16"
      ]
     },
     "execution_count": 9,
     "metadata": {},
     "output_type": "execute_result"
    }
   ],
   "source": [
    "len(updated_q)"
   ]
  },
  {
   "cell_type": "code",
   "execution_count": 50,
   "metadata": {},
   "outputs": [
    {
     "data": {
      "text/plain": [
       "[1, 2, 1, 0, 1, 0, 1, 0, 2, 1, 1, 0, 0, 2, 2, 0]"
      ]
     },
     "execution_count": 50,
     "metadata": {},
     "output_type": "execute_result"
    }
   ],
   "source": [
    "##To find the required movements: 0- Move left, 1- Move Down, 2- Move Right, 3- Move Up\n",
    "move_arr=[]\n",
    "for r in range (len(updated_q)):\n",
    "    movement= np.argmax(updated_q[r])\n",
    "    move_arr.append(movement)\n",
    "move_arr"
   ]
  },
  {
   "cell_type": "code",
   "execution_count": 31,
   "metadata": {},
   "outputs": [],
   "source": [
    "def find_initial_pos(x_grid, y_grid):  ##give dimensions of the map\n",
    "    x_num= x_grid\n",
    "    y_num =y_grid-1\n",
    "    return 0, y_num, x_num\n",
    "    \n",
    "def get_coor(x, y, x_num, y_num):  ##find co-ordinates \n",
    "    moves =  (x)+((y_num-y)*x_num) \n",
    "    return moves \n",
    "\n",
    "def find_coor(x,y, ac):  ##update coordinates\n",
    "    if ac == 0:\n",
    "        x=x-1\n",
    "        y=y\n",
    "\n",
    "    if ac== 1:\n",
    "        x=x\n",
    "        y=y-1\n",
    "        \n",
    "    if ac== 2:\n",
    "        x=x+1\n",
    "        y=y\n",
    "        \n",
    "    if ac== 3:\n",
    "        x=x\n",
    "        y=y+1\n",
    "        \n",
    "    return x, y\n",
    "\n",
    "def action(move_arr):\n",
    "    moves=0\n",
    "    x_grid=4\n",
    "    y_grid=4\n",
    "    final_dest= (x_grid*y_grid)-1\n",
    "    y_num= y_grid-1\n",
    "    x, y, x_grid = find_initial_pos(x_grid, y_grid)\n",
    "    tr_arr=[]\n",
    "    while moves!=final_dest:\n",
    "        moves= get_coor(x, y, x_grid, y_num)  ##finds the coordinates to search from the observation array\n",
    "        ac= move_arr[moves]  ##action to be performed\n",
    "        ##perform action in the arduino robot\n",
    "        up_x, up_y = find_coor(x, y, ac)   ##updates the x and y values\n",
    "        x=up_x\n",
    "        y=up_y\n",
    "        tr_arr.append(moves)\n",
    "        print (x,y)\n",
    "    return tr_arr\n"
   ]
  },
  {
   "cell_type": "code",
   "execution_count": 33,
   "metadata": {},
   "outputs": [
    {
     "name": "stdout",
     "output_type": "stream",
     "text": [
      "0 2\n",
      "0 1\n",
      "1 1\n",
      "1 0\n",
      "2 0\n",
      "3 0\n",
      "2 0\n"
     ]
    }
   ],
   "source": [
    "req_arr= action(move_arr)"
   ]
  },
  {
   "cell_type": "code",
   "execution_count": 37,
   "metadata": {},
   "outputs": [
    {
     "data": {
      "text/plain": [
       "[0, 4, 8, 9, 13, 14, 15]"
      ]
     },
     "execution_count": 37,
     "metadata": {},
     "output_type": "execute_result"
    }
   ],
   "source": [
    "req_arr"
   ]
  },
  {
   "cell_type": "code",
   "execution_count": 48,
   "metadata": {},
   "outputs": [
    {
     "name": "stdout",
     "output_type": "stream",
     "text": [
      "[1, 1, 2, 1, 2, 2]\n"
     ]
    }
   ],
   "source": [
    "nec_act=[]\n",
    "for ind in range (len(req_arr)-1):\n",
    "    a = req_arr[ind]\n",
    "    b= move_arr[a]\n",
    "    nec_act.append(b)\n",
    "print (nec_act)"
   ]
  },
  {
   "cell_type": "code",
   "execution_count": 49,
   "metadata": {},
   "outputs": [
    {
     "name": "stdout",
     "output_type": "stream",
     "text": [
      "dataArray.h has been generated with the array data.\n"
     ]
    }
   ],
   "source": [
    "# Generate the content of the header file\n",
    "header_file_name = 'dataArray.h'\n",
    "header_content = f\"\"\"#ifndef DATA_ARRAY_H\n",
    "#define DATA_ARRAY_H\n",
    "\n",
    "const int myArray[] = {{{', '.join(map(str, nec_act))}}};\n",
    "const int arrayLength = sizeof(myArray) / sizeof(myArray[0]);\n",
    "\n",
    "#endif // DATA_ARRAY_H\n",
    "\"\"\"\n",
    "with open(header_file_name, 'w') as header_file:\n",
    "    header_file.write(header_content)\n",
    "\n",
    "print(f'{header_file_name} has been generated with the array data.')\n"
   ]
  },
  {
   "cell_type": "code",
   "execution_count": null,
   "metadata": {},
   "outputs": [],
   "source": []
  }
 ],
 "metadata": {
  "kernelspec": {
   "display_name": "Python 3 (ipykernel)",
   "language": "python",
   "name": "python3"
  },
  "language_info": {
   "codemirror_mode": {
    "name": "ipython",
    "version": 3
   },
   "file_extension": ".py",
   "mimetype": "text/x-python",
   "name": "python",
   "nbconvert_exporter": "python",
   "pygments_lexer": "ipython3",
   "version": "3.11.7"
  }
 },
 "nbformat": 4,
 "nbformat_minor": 4
}
